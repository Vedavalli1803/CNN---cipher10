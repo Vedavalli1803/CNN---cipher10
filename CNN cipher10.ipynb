{
  "nbformat": 4,
  "nbformat_minor": 0,
  "metadata": {
    "colab": {
      "provenance": []
    },
    "kernelspec": {
      "name": "python3",
      "display_name": "Python 3"
    },
    "language_info": {
      "name": "python"
    }
  },
  "cells": [
    {
      "cell_type": "markdown",
      "source": [
        "Importing Data Set"
      ],
      "metadata": {
        "id": "mAohL7N2I-kx"
      }
    },
    {
      "cell_type": "code",
      "execution_count": 1,
      "metadata": {
        "id": "H2YKH2Lbu_rB"
      },
      "outputs": [],
      "source": [
        "from keras.datasets import cifar10"
      ]
    },
    {
      "cell_type": "markdown",
      "source": [
        "Importing required libraries"
      ],
      "metadata": {
        "id": "537t5MHPJB9r"
      }
    },
    {
      "cell_type": "code",
      "source": [
        "import numpy as np\n",
        "import pandas as pd\n",
        "import matplotlib.pyplot as plt\n",
        "import seaborn as sns\n",
        "sns.set()\n",
        "\n",
        "import tensorflow as tf\n",
        "from keras.utils import np_utils\n",
        "from tensorflow.keras.models import Sequential\n",
        "from tensorflow.keras.layers import Dense,Dropout,Activation,Flatten,Conv2D,MaxPool2D\n",
        "from keras.utils.np_utils import to_categorical\n",
        "from tensorflow.keras.optimizers import Adam\n",
        "import warnings\n",
        "warnings.filterwarnings(\"ignore\")"
      ],
      "metadata": {
        "id": "JR5lTC0GvPZM"
      },
      "execution_count": 2,
      "outputs": []
    },
    {
      "cell_type": "code",
      "source": [
        "(x_train, y_train), (x_test, y_test) = cifar10.load_data()"
      ],
      "metadata": {
        "id": "eW6bsyswwIDf"
      },
      "execution_count": 31,
      "outputs": []
    },
    {
      "cell_type": "code",
      "source": [
        "x_train.shape"
      ],
      "metadata": {
        "colab": {
          "base_uri": "https://localhost:8080/"
        },
        "id": "-CmX6_7_wMje",
        "outputId": "81412fcc-6f95-4258-953e-f70c939565b2"
      },
      "execution_count": 4,
      "outputs": [
        {
          "output_type": "execute_result",
          "data": {
            "text/plain": [
              "(50000, 32, 32, 3)"
            ]
          },
          "metadata": {},
          "execution_count": 4
        }
      ]
    },
    {
      "cell_type": "code",
      "source": [
        "y_train.shape"
      ],
      "metadata": {
        "colab": {
          "base_uri": "https://localhost:8080/"
        },
        "id": "RJmW7KEKwRLS",
        "outputId": "ab9b5a5f-9e10-44a2-c310-03936f22749e"
      },
      "execution_count": 5,
      "outputs": [
        {
          "output_type": "execute_result",
          "data": {
            "text/plain": [
              "(50000, 1)"
            ]
          },
          "metadata": {},
          "execution_count": 5
        }
      ]
    },
    {
      "cell_type": "code",
      "source": [
        "x_test.shape"
      ],
      "metadata": {
        "colab": {
          "base_uri": "https://localhost:8080/"
        },
        "id": "eiYR8auYwT_L",
        "outputId": "cea62c2d-b2af-42a1-e2d5-17764309b602"
      },
      "execution_count": 6,
      "outputs": [
        {
          "output_type": "execute_result",
          "data": {
            "text/plain": [
              "(10000, 32, 32, 3)"
            ]
          },
          "metadata": {},
          "execution_count": 6
        }
      ]
    },
    {
      "cell_type": "code",
      "source": [
        "y_test.shape"
      ],
      "metadata": {
        "colab": {
          "base_uri": "https://localhost:8080/"
        },
        "id": "nxn0THC3w-LH",
        "outputId": "6cf33e13-d7d4-44ea-f446-18c54fa1b55a"
      },
      "execution_count": 32,
      "outputs": [
        {
          "output_type": "execute_result",
          "data": {
            "text/plain": [
              "(10000, 1)"
            ]
          },
          "metadata": {},
          "execution_count": 32
        }
      ]
    },
    {
      "cell_type": "markdown",
      "source": [
        "50000 - training images \n",
        "\n",
        "10000 - testing images\n",
        "\n",
        "(32,32,3) - image structure :(width,height,RGB)"
      ],
      "metadata": {
        "id": "dNynetNTxWKZ"
      }
    },
    {
      "cell_type": "code",
      "source": [
        "y_classes = ['airplane', 'automobile', 'bird', 'cat', 'deer', 'dog', 'frog', 'horse', 'ship', 'truck']\n",
        "print('images and their labels: ' + str([x[0] for x in y_train[0:10]])) \n",
        "print('classes for the labels: ' + str([y_classes[x[0]] for x in y_train[0:10]]))"
      ],
      "metadata": {
        "colab": {
          "base_uri": "https://localhost:8080/"
        },
        "id": "WSfymnhizBHI",
        "outputId": "7d6262b5-1096-4318-abf5-a0c683d21f10"
      },
      "execution_count": 8,
      "outputs": [
        {
          "output_type": "stream",
          "name": "stdout",
          "text": [
            "images and their labels: [6, 9, 9, 4, 1, 1, 2, 7, 8, 3]\n",
            "classes for the labels: ['frog', 'truck', 'truck', 'deer', 'automobile', 'automobile', 'bird', 'horse', 'ship', 'cat']\n"
          ]
        }
      ]
    },
    {
      "cell_type": "code",
      "source": [
        "y_train = y_train.reshape(-1,)"
      ],
      "metadata": {
        "id": "QqTPRpCS59zj"
      },
      "execution_count": 9,
      "outputs": []
    },
    {
      "cell_type": "code",
      "source": [
        "def show_img(x,y,index):\n",
        "  plt.figure(figsize = (15,2))\n",
        "  plt.imshow(x[index])\n",
        "  plt.xlabel(y_classes[y[index]])"
      ],
      "metadata": {
        "id": "3Yv5U8NN6qG9"
      },
      "execution_count": 37,
      "outputs": []
    },
    {
      "cell_type": "code",
      "source": [
        "show_img(x_train,y_train,5)"
      ],
      "metadata": {
        "colab": {
          "base_uri": "https://localhost:8080/",
          "height": 246
        },
        "id": "i2ArgUcd7AUI",
        "outputId": "57c536e6-c8c4-41dc-9336-5dbd025ed271"
      },
      "execution_count": 11,
      "outputs": [
        {
          "output_type": "display_data",
          "data": {
            "text/plain": [
              "<Figure size 1500x200 with 1 Axes>"
            ],
            "image/png": "[encoded data removed]"
          },
          "metadata": {}
        }
      ]
    },
    {
      "cell_type": "markdown",
      "source": [
        "Pre Processing\n",
        "\n",
        "One - hot encoding"
      ],
      "metadata": {
        "id": "mowpF6LRqJrc"
      }
    },
    {
      "cell_type": "markdown",
      "source": [
        "from label indices to one-hot encoded vectors"
      ],
      "metadata": {
        "id": "7-fqBFtEqzX8"
      }
    },
    {
      "cell_type": "code",
      "source": [
        "y_train = to_categorical(y_train, num_classes=10)\n",
        "y_test = to_categorical(y_test, num_classes=10)"
      ],
      "metadata": {
        "id": "vCJKdaMTynAW"
      },
      "execution_count": 33,
      "outputs": []
    },
    {
      "cell_type": "markdown",
      "source": [
        "(32,32,3) ---> 3072  (i.e 32*32*3)\n",
        "\n",
        "x_train = np.reshape(x_train,(50000,3072))\n",
        "\n",
        "x_test = np.reshape(x_test,(10000,3072))"
      ],
      "metadata": {
        "id": "bcLdTEw-rq6c"
      }
    },
    {
      "cell_type": "code",
      "source": [
        "x_train = x_train.astype('float32')\n",
        "x_test = x_test.astype('float32')"
      ],
      "metadata": {
        "id": "zo2XDZBCrMvm"
      },
      "execution_count": 13,
      "outputs": []
    },
    {
      "cell_type": "markdown",
      "source": [
        "Normalisation"
      ],
      "metadata": {
        "id": "0fQMjqoQr-4W"
      }
    },
    {
      "cell_type": "code",
      "source": [
        "x_train /= 255\n",
        "x_test /= 255"
      ],
      "metadata": {
        "id": "Y7MtZLXNrdWZ"
      },
      "execution_count": 14,
      "outputs": []
    },
    {
      "cell_type": "markdown",
      "source": [
        "Model Building"
      ],
      "metadata": {
        "id": "uOg1ckBvsGPc"
      }
    },
    {
      "cell_type": "code",
      "source": [
        "model = Sequential()\n",
        "\n",
        "model.add(Conv2D(filters=32,kernel_size=(3,3),activation = 'relu',input_shape=(32,32,3)))\n",
        "model.add(MaxPool2D(pool_size=(2,2)))\n",
        "model.add(Conv2D(filters=64,kernel_size=(4,4),activation = 'relu'))\n",
        "model.add(MaxPool2D(pool_size=(2,2)))\n",
        "model.add(Conv2D(filters=128,kernel_size=(5,5),activation = 'relu'))\n",
        "model.add(MaxPool2D(pool_size=(2,2)))\n",
        "\n",
        "model.add(Flatten())\n",
        "model.add(Dense(units=34, activation='relu'))\n",
        "model.add(Dropout(.5))\n",
        "model.add(Dense(units=10,activation='softmax'))\n",
        "\n",
        "model.summary()"
      ],
      "metadata": {
        "colab": {
          "base_uri": "https://localhost:8080/"
        },
        "id": "K0dpMFvQrnXW",
        "outputId": "a85cc6ee-421f-4273-d6ed-35e8386a5626"
      },
      "execution_count": 15,
      "outputs": [
        {
          "output_type": "stream",
          "name": "stdout",
          "text": [
            "Model: \"sequential\"\n",
            "_________________________________________________________________\n",
            " Layer (type)                Output Shape              Param #   \n",
            "=================================================================\n",
            " conv2d (Conv2D)             (None, 30, 30, 32)        896       \n",
            "                                                                 \n",
            " max_pooling2d (MaxPooling2D  (None, 15, 15, 32)       0         \n",
            " )                                                               \n",
            "                                                                 \n",
            " conv2d_1 (Conv2D)           (None, 12, 12, 64)        32832     \n",
            "                                                                 \n",
            " max_pooling2d_1 (MaxPooling  (None, 6, 6, 64)         0         \n",
            " 2D)                                                             \n",
            "                                                                 \n",
            " conv2d_2 (Conv2D)           (None, 2, 2, 128)         204928    \n",
            "                                                                 \n",
            " max_pooling2d_2 (MaxPooling  (None, 1, 1, 128)        0         \n",
            " 2D)                                                             \n",
            "                                                                 \n",
            " flatten (Flatten)           (None, 128)               0         \n",
            "                                                                 \n",
            " dense (Dense)               (None, 34)                4386      \n",
            "                                                                 \n",
            " dropout (Dropout)           (None, 34)                0         \n",
            "                                                                 \n",
            " dense_1 (Dense)             (None, 10)                350       \n",
            "                                                                 \n",
            "=================================================================\n",
            "Total params: 243,392\n",
            "Trainable params: 243,392\n",
            "Non-trainable params: 0\n",
            "_________________________________________________________________\n"
          ]
        }
      ]
    },
    {
      "cell_type": "code",
      "source": [
        "model.compile(\n",
        "    optimizer = \"adam\",\n",
        "    loss = \"categorical_crossentropy\",\n",
        "    metrics = [\"accuracy\"]\n",
        ")"
      ],
      "metadata": {
        "id": "o5s0rVIyvjc_"
      },
      "execution_count": 16,
      "outputs": []
    },
    {
      "cell_type": "code",
      "source": [
        "model.fit(x_train ,y_train ,validation_data=(x_test,y_test),epochs=10)"
      ],
      "metadata": {
        "colab": {
          "base_uri": "https://localhost:8080/"
        },
        "id": "xY8l1bCP9--o",
        "outputId": "1b8201c4-a820-4bd1-dcf2-89acc0f1cffa"
      },
      "execution_count": 17,
      "outputs": [
        {
          "output_type": "stream",
          "name": "stdout",
          "text": [
            "Epoch 1/10\n",
            "1563/1563 [==============================] - 94s 60ms/step - loss: 1.7489 - accuracy: 0.3508 - val_loss: 1.4156 - val_accuracy: 0.4786\n",
            "Epoch 2/10\n",
            "1563/1563 [==============================] - 79s 51ms/step - loss: 1.3997 - accuracy: 0.4978 - val_loss: 1.1818 - val_accuracy: 0.5771\n",
            "Epoch 3/10\n",
            "1563/1563 [==============================] - 82s 52ms/step - loss: 1.2418 - accuracy: 0.5632 - val_loss: 1.0746 - val_accuracy: 0.6188\n",
            "Epoch 4/10\n",
            "1563/1563 [==============================] - 77s 49ms/step - loss: 1.1415 - accuracy: 0.6072 - val_loss: 1.0230 - val_accuracy: 0.6476\n",
            "Epoch 5/10\n",
            "1563/1563 [==============================] - 79s 50ms/step - loss: 1.0620 - accuracy: 0.6365 - val_loss: 0.9808 - val_accuracy: 0.6607\n",
            "Epoch 6/10\n",
            "1563/1563 [==============================] - 77s 49ms/step - loss: 0.9998 - accuracy: 0.6601 - val_loss: 0.9826 - val_accuracy: 0.6678\n",
            "Epoch 7/10\n",
            "1563/1563 [==============================] - 76s 48ms/step - loss: 0.9545 - accuracy: 0.6785 - val_loss: 0.9518 - val_accuracy: 0.6737\n",
            "Epoch 8/10\n",
            "1563/1563 [==============================] - 76s 49ms/step - loss: 0.9042 - accuracy: 0.6949 - val_loss: 0.9447 - val_accuracy: 0.6786\n",
            "Epoch 9/10\n",
            "1563/1563 [==============================] - 77s 49ms/step - loss: 0.8655 - accuracy: 0.7105 - val_loss: 0.9172 - val_accuracy: 0.6971\n",
            "Epoch 10/10\n",
            "1563/1563 [==============================] - 77s 49ms/step - loss: 0.8251 - accuracy: 0.7247 - val_loss: 0.9563 - val_accuracy: 0.6914\n"
          ]
        },
        {
          "output_type": "execute_result",
          "data": {
            "text/plain": [
              "<keras.callbacks.History at 0x7f19a03a5dc0>"
            ]
          },
          "metadata": {},
          "execution_count": 17
        }
      ]
    },
    {
      "cell_type": "markdown",
      "source": [
        "Prediction"
      ],
      "metadata": {
        "id": "jLLW-j_YJLcK"
      }
    },
    {
      "cell_type": "code",
      "source": [
        "y_pred = model.predict(x_test)"
      ],
      "metadata": {
        "colab": {
          "base_uri": "https://localhost:8080/"
        },
        "id": "q7-jn2Jc-j1P",
        "outputId": "b8dad634-dfeb-4325-8aa2-dc7f11d2aebc"
      },
      "execution_count": 18,
      "outputs": [
        {
          "output_type": "stream",
          "name": "stdout",
          "text": [
            "313/313 [==============================] - 4s 11ms/step\n"
          ]
        }
      ]
    },
    {
      "cell_type": "code",
      "source": [
        "y_pred[9]"
      ],
      "metadata": {
        "colab": {
          "base_uri": "https://localhost:8080/"
        },
        "id": "jHR2j203COCs",
        "outputId": "75d271bd-6209-4088-9c0c-43ccf497834c"
      },
      "execution_count": 19,
      "outputs": [
        {
          "output_type": "execute_result",
          "data": {
            "text/plain": [
              "array([0.01495696, 0.51109457, 0.00606793, 0.00668928, 0.00230474,\n",
              "       0.00155699, 0.0128404 , 0.00161354, 0.0112905 , 0.43158516],\n",
              "      dtype=float32)"
            ]
          },
          "metadata": {},
          "execution_count": 19
        }
      ]
    },
    {
      "cell_type": "code",
      "source": [
        "y_pred = [np.argmax(arr) for arr in y_pred]"
      ],
      "metadata": {
        "id": "u7hEZm7wCTGR"
      },
      "execution_count": 20,
      "outputs": []
    },
    {
      "cell_type": "code",
      "source": [
        "y_pred"
      ],
      "metadata": {
        "colab": {
          "base_uri": "https://localhost:8080/"
        },
        "id": "K_sKju4gCkMF",
        "outputId": "bc83a7b9-8a28-4b64-e24a-ae934fddf500"
      },
      "execution_count": 21,
      "outputs": [
        {
          "output_type": "execute_result",
          "data": {
            "text/plain": [
              "[3,\n",
              " 8,\n",
              " 8,\n",
              " 0,\n",
              " 6,\n",
              " 6,\n",
              " 1,\n",
              " 6,\n",
              " 3,\n",
              " 1,\n",
              " 4,\n",
              " 9,\n",
              " 5,\n",
              " 7,\n",
              " 9,\n",
              " 8,\n",
              " 5,\n",
              " 5,\n",
              " 8,\n",
              " 6,\n",
              " 7,\n",
              " 2,\n",
              " 4,\n",
              " 9,\n",
              " 4,\n",
              " 3,\n",
              " 4,\n",
              " 0,\n",
              " 9,\n",
              " 6,\n",
              " 6,\n",
              " 2,\n",
              " 4,\n",
              " 3,\n",
              " 9,\n",
              " 3,\n",
              " 4,\n",
              " 1,\n",
              " 9,\n",
              " 5,\n",
              " 0,\n",
              " 6,\n",
              " 7,\n",
              " 6,\n",
              " 0,\n",
              " 9,\n",
              " 3,\n",
              " 7,\n",
              " 7,\n",
              " 6,\n",
              " 0,\n",
              " 8,\n",
              " 4,\n",
              " 6,\n",
              " 0,\n",
              " 8,\n",
              " 4,\n",
              " 3,\n",
              " 4,\n",
              " 3,\n",
              " 7,\n",
              " 5,\n",
              " 6,\n",
              " 2,\n",
              " 6,\n",
              " 2,\n",
              " 1,\n",
              " 0,\n",
              " 5,\n",
              " 7,\n",
              " 2,\n",
              " 6,\n",
              " 8,\n",
              " 8,\n",
              " 0,\n",
              " 2,\n",
              " 2,\n",
              " 3,\n",
              " 5,\n",
              " 8,\n",
              " 8,\n",
              " 1,\n",
              " 1,\n",
              " 7,\n",
              " 5,\n",
              " 7,\n",
              " 2,\n",
              " 8,\n",
              " 8,\n",
              " 9,\n",
              " 0,\n",
              " 4,\n",
              " 8,\n",
              " 6,\n",
              " 4,\n",
              " 6,\n",
              " 6,\n",
              " 0,\n",
              " 0,\n",
              " 7,\n",
              " 4,\n",
              " 5,\n",
              " 6,\n",
              " 3,\n",
              " 1,\n",
              " 1,\n",
              " 2,\n",
              " 6,\n",
              " 3,\n",
              " 5,\n",
              " 4,\n",
              " 0,\n",
              " 2,\n",
              " 2,\n",
              " 9,\n",
              " 3,\n",
              " 0,\n",
              " 4,\n",
              " 6,\n",
              " 7,\n",
              " 8,\n",
              " 5,\n",
              " 1,\n",
              " 2,\n",
              " 8,\n",
              " 2,\n",
              " 0,\n",
              " 3,\n",
              " 3,\n",
              " 3,\n",
              " 4,\n",
              " 1,\n",
              " 8,\n",
              " 9,\n",
              " 4,\n",
              " 2,\n",
              " 9,\n",
              " 7,\n",
              " 4,\n",
              " 8,\n",
              " 6,\n",
              " 5,\n",
              " 6,\n",
              " 5,\n",
              " 8,\n",
              " 7,\n",
              " 3,\n",
              " 5,\n",
              " 7,\n",
              " 5,\n",
              " 0,\n",
              " 9,\n",
              " 6,\n",
              " 0,\n",
              " 0,\n",
              " 5,\n",
              " 2,\n",
              " 9,\n",
              " 3,\n",
              " 4,\n",
              " 2,\n",
              " 1,\n",
              " 3,\n",
              " 6,\n",
              " 0,\n",
              " 7,\n",
              " 8,\n",
              " 4,\n",
              " 3,\n",
              " 0,\n",
              " 9,\n",
              " 9,\n",
              " 9,\n",
              " 8,\n",
              " 9,\n",
              " 9,\n",
              " 7,\n",
              " 4,\n",
              " 5,\n",
              " 9,\n",
              " 0,\n",
              " 5,\n",
              " 2,\n",
              " 2,\n",
              " 4,\n",
              " 8,\n",
              " 6,\n",
              " 3,\n",
              " 3,\n",
              " 8,\n",
              " 5,\n",
              " 7,\n",
              " 4,\n",
              " 1,\n",
              " 7,\n",
              " 4,\n",
              " 8,\n",
              " 8,\n",
              " 7,\n",
              " 8,\n",
              " 5,\n",
              " 1,\n",
              " 8,\n",
              " 7,\n",
              " 1,\n",
              " 3,\n",
              " 0,\n",
              " 5,\n",
              " 7,\n",
              " 9,\n",
              " 6,\n",
              " 8,\n",
              " 5,\n",
              " 7,\n",
              " 6,\n",
              " 0,\n",
              " 4,\n",
              " 9,\n",
              " 5,\n",
              " 4,\n",
              " 7,\n",
              " 5,\n",
              " 9,\n",
              " 7,\n",
              " 7,\n",
              " 9,\n",
              " 4,\n",
              " 4,\n",
              " 3,\n",
              " 6,\n",
              " 5,\n",
              " 1,\n",
              " 5,\n",
              " 8,\n",
              " 8,\n",
              " 0,\n",
              " 4,\n",
              " 4,\n",
              " 3,\n",
              " 6,\n",
              " 1,\n",
              " 9,\n",
              " 8,\n",
              " 5,\n",
              " 0,\n",
              " 3,\n",
              " 1,\n",
              " 8,\n",
              " 2,\n",
              " 0,\n",
              " 5,\n",
              " 3,\n",
              " 9,\n",
              " 9,\n",
              " 4,\n",
              " 8,\n",
              " 6,\n",
              " 0,\n",
              " 8,\n",
              " 9,\n",
              " 8,\n",
              " 1,\n",
              " 3,\n",
              " 3,\n",
              " 0,\n",
              " 8,\n",
              " 3,\n",
              " 4,\n",
              " 7,\n",
              " 2,\n",
              " 2,\n",
              " 3,\n",
              " 6,\n",
              " 3,\n",
              " 8,\n",
              " 2,\n",
              " 0,\n",
              " 7,\n",
              " 4,\n",
              " 5,\n",
              " 9,\n",
              " 2,\n",
              " 6,\n",
              " 1,\n",
              " 0,\n",
              " 9,\n",
              " 1,\n",
              " 0,\n",
              " 7,\n",
              " 9,\n",
              " 1,\n",
              " 2,\n",
              " 6,\n",
              " 9,\n",
              " 3,\n",
              " 4,\n",
              " 6,\n",
              " 0,\n",
              " 0,\n",
              " 6,\n",
              " 6,\n",
              " 6,\n",
              " 7,\n",
              " 3,\n",
              " 6,\n",
              " 1,\n",
              " 9,\n",
              " 2,\n",
              " 1,\n",
              " 4,\n",
              " 8,\n",
              " 6,\n",
              " 0,\n",
              " 3,\n",
              " 4,\n",
              " 3,\n",
              " 7,\n",
              " 7,\n",
              " 5,\n",
              " 5,\n",
              " 5,\n",
              " 3,\n",
              " 2,\n",
              " 5,\n",
              " 5,\n",
              " 1,\n",
              " 4,\n",
              " 7,\n",
              " 4,\n",
              " 6,\n",
              " 1,\n",
              " 9,\n",
              " 6,\n",
              " 6,\n",
              " 6,\n",
              " 4,\n",
              " 6,\n",
              " 8,\n",
              " 0,\n",
              " 7,\n",
              " 4,\n",
              " 6,\n",
              " 2,\n",
              " 7,\n",
              " 8,\n",
              " 5,\n",
              " 4,\n",
              " 6,\n",
              " 8,\n",
              " 9,\n",
              " 9,\n",
              " 1,\n",
              " 8,\n",
              " 2,\n",
              " 6,\n",
              " 7,\n",
              " 4,\n",
              " 2,\n",
              " 1,\n",
              " 0,\n",
              " 9,\n",
              " 5,\n",
              " 8,\n",
              " 1,\n",
              " 9,\n",
              " 4,\n",
              " 1,\n",
              " 8,\n",
              " 2,\n",
              " 9,\n",
              " 4,\n",
              " 7,\n",
              " 9,\n",
              " 4,\n",
              " 2,\n",
              " 7,\n",
              " 0,\n",
              " 5,\n",
              " 8,\n",
              " 6,\n",
              " 6,\n",
              " 9,\n",
              " 0,\n",
              " 9,\n",
              " 5,\n",
              " 8,\n",
              " 7,\n",
              " 2,\n",
              " 5,\n",
              " 5,\n",
              " 1,\n",
              " 2,\n",
              " 6,\n",
              " 5,\n",
              " 5,\n",
              " 6,\n",
              " 4,\n",
              " 3,\n",
              " 0,\n",
              " 9,\n",
              " 9,\n",
              " 8,\n",
              " 7,\n",
              " 8,\n",
              " 8,\n",
              " 4,\n",
              " 0,\n",
              " 1,\n",
              " 8,\n",
              " 2,\n",
              " 7,\n",
              " 0,\n",
              " 5,\n",
              " 6,\n",
              " 1,\n",
              " 9,\n",
              " 4,\n",
              " 7,\n",
              " 7,\n",
              " 7,\n",
              " 4,\n",
              " 7,\n",
              " 2,\n",
              " 0,\n",
              " 2,\n",
              " 9,\n",
              " 3,\n",
              " 4,\n",
              " 6,\n",
              " 6,\n",
              " 7,\n",
              " 5,\n",
              " 3,\n",
              " 7,\n",
              " 9,\n",
              " 7,\n",
              " 2,\n",
              " 5,\n",
              " 5,\n",
              " 9,\n",
              " 9,\n",
              " 2,\n",
              " 9,\n",
              " 9,\n",
              " 3,\n",
              " 4,\n",
              " 5,\n",
              " 0,\n",
              " 2,\n",
              " 2,\n",
              " 6,\n",
              " 9,\n",
              " 7,\n",
              " 3,\n",
              " 9,\n",
              " 2,\n",
              " 4,\n",
              " 7,\n",
              " 4,\n",
              " 9,\n",
              " 5,\n",
              " 6,\n",
              " 1,\n",
              " 7,\n",
              " 7,\n",
              " 4,\n",
              " 7,\n",
              " 6,\n",
              " 7,\n",
              " 8,\n",
              " 3,\n",
              " 7,\n",
              " 8,\n",
              " 0,\n",
              " 5,\n",
              " 7,\n",
              " 4,\n",
              " 1,\n",
              " 5,\n",
              " 4,\n",
              " 9,\n",
              " 6,\n",
              " 8,\n",
              " 7,\n",
              " 5,\n",
              " 9,\n",
              " 9,\n",
              " 9,\n",
              " 4,\n",
              " 0,\n",
              " 1,\n",
              " 2,\n",
              " 0,\n",
              " 1,\n",
              " 1,\n",
              " 8,\n",
              " 3,\n",
              " 5,\n",
              " 2,\n",
              " 0,\n",
              " 4,\n",
              " 6,\n",
              " 5,\n",
              " 4,\n",
              " 9,\n",
              " 4,\n",
              " 7,\n",
              " 9,\n",
              " 3,\n",
              " 4,\n",
              " 5,\n",
              " 6,\n",
              " 6,\n",
              " 1,\n",
              " 5,\n",
              " 3,\n",
              " 8,\n",
              " 9,\n",
              " 5,\n",
              " 8,\n",
              " 5,\n",
              " 7,\n",
              " 3,\n",
              " 7,\n",
              " 0,\n",
              " 6,\n",
              " 4,\n",
              " 0,\n",
              " 0,\n",
              " 6,\n",
              " 9,\n",
              " 3,\n",
              " 1,\n",
              " 5,\n",
              " 6,\n",
              " 6,\n",
              " 6,\n",
              " 4,\n",
              " 9,\n",
              " 9,\n",
              " 1,\n",
              " 4,\n",
              " 4,\n",
              " 7,\n",
              " 5,\n",
              " 9,\n",
              " 1,\n",
              " 6,\n",
              " 3,\n",
              " 5,\n",
              " 5,\n",
              " 5,\n",
              " 9,\n",
              " 5,\n",
              " 9,\n",
              " 4,\n",
              " 6,\n",
              " 4,\n",
              " 5,\n",
              " 2,\n",
              " 0,\n",
              " 7,\n",
              " 6,\n",
              " 4,\n",
              " 2,\n",
              " 5,\n",
              " 9,\n",
              " 4,\n",
              " 9,\n",
              " 2,\n",
              " 6,\n",
              " 7,\n",
              " 1,\n",
              " 8,\n",
              " 3,\n",
              " 6,\n",
              " 8,\n",
              " 8,\n",
              " 7,\n",
              " 2,\n",
              " 4,\n",
              " 0,\n",
              " 8,\n",
              " 7,\n",
              " 0,\n",
              " 9,\n",
              " 3,\n",
              " 4,\n",
              " 8,\n",
              " 9,\n",
              " 6,\n",
              " 9,\n",
              " 2,\n",
              " 6,\n",
              " 1,\n",
              " 4,\n",
              " 7,\n",
              " 2,\n",
              " 4,\n",
              " 3,\n",
              " 8,\n",
              " 5,\n",
              " 0,\n",
              " 2,\n",
              " 1,\n",
              " 6,\n",
              " 3,\n",
              " 5,\n",
              " 3,\n",
              " 9,\n",
              " 6,\n",
              " 9,\n",
              " 8,\n",
              " 8,\n",
              " 3,\n",
              " 8,\n",
              " 6,\n",
              " 3,\n",
              " 7,\n",
              " 1,\n",
              " 7,\n",
              " 4,\n",
              " 1,\n",
              " 2,\n",
              " 7,\n",
              " 9,\n",
              " 9,\n",
              " 4,\n",
              " 7,\n",
              " 1,\n",
              " 2,\n",
              " 2,\n",
              " 6,\n",
              " 5,\n",
              " 4,\n",
              " 6,\n",
              " 8,\n",
              " 2,\n",
              " 0,\n",
              " 7,\n",
              " 3,\n",
              " 3,\n",
              " 0,\n",
              " 7,\n",
              " 9,\n",
              " 1,\n",
              " 4,\n",
              " 4,\n",
              " 4,\n",
              " 5,\n",
              " 3,\n",
              " 9,\n",
              " 5,\n",
              " 6,\n",
              " 5,\n",
              " 4,\n",
              " 1,\n",
              " 5,\n",
              " 4,\n",
              " 1,\n",
              " 9,\n",
              " 4,\n",
              " 7,\n",
              " 6,\n",
              " 3,\n",
              " 0,\n",
              " 9,\n",
              " 0,\n",
              " 9,\n",
              " 5,\n",
              " 6,\n",
              " 7,\n",
              " 3,\n",
              " 6,\n",
              " 4,\n",
              " 8,\n",
              " 4,\n",
              " 9,\n",
              " 3,\n",
              " 3,\n",
              " 9,\n",
              " 6,\n",
              " 2,\n",
              " 0,\n",
              " 6,\n",
              " 2,\n",
              " 6,\n",
              " 3,\n",
              " 6,\n",
              " 2,\n",
              " 3,\n",
              " 2,\n",
              " 2,\n",
              " 7,\n",
              " 8,\n",
              " 3,\n",
              " 8,\n",
              " 2,\n",
              " 7,\n",
              " 5,\n",
              " 7,\n",
              " 2,\n",
              " 6,\n",
              " 8,\n",
              " 4,\n",
              " 4,\n",
              " 0,\n",
              " 3,\n",
              " 0,\n",
              " 8,\n",
              " 6,\n",
              " 0,\n",
              " 8,\n",
              " 7,\n",
              " 4,\n",
              " 3,\n",
              " 4,\n",
              " 8,\n",
              " 4,\n",
              " 8,\n",
              " 7,\n",
              " 8,\n",
              " 8,\n",
              " 1,\n",
              " 8,\n",
              " 8,\n",
              " 1,\n",
              " 4,\n",
              " 6,\n",
              " 5,\n",
              " 5,\n",
              " 2,\n",
              " 7,\n",
              " 9,\n",
              " 8,\n",
              " 2,\n",
              " 1,\n",
              " 4,\n",
              " 1,\n",
              " 5,\n",
              " 5,\n",
              " 7,\n",
              " 0,\n",
              " 7,\n",
              " 2,\n",
              " 7,\n",
              " 4,\n",
              " 6,\n",
              " 2,\n",
              " 3,\n",
              " 9,\n",
              " 0,\n",
              " 9,\n",
              " 9,\n",
              " 2,\n",
              " 2,\n",
              " 6,\n",
              " 8,\n",
              " 2,\n",
              " 1,\n",
              " 7,\n",
              " 2,\n",
              " 6,\n",
              " 0,\n",
              " 9,\n",
              " 2,\n",
              " 2,\n",
              " 8,\n",
              " 2,\n",
              " 4,\n",
              " 7,\n",
              " 4,\n",
              " 6,\n",
              " 3,\n",
              " 0,\n",
              " 4,\n",
              " 7,\n",
              " 6,\n",
              " 0,\n",
              " 6,\n",
              " 9,\n",
              " 1,\n",
              " 7,\n",
              " 6,\n",
              " 7,\n",
              " 0,\n",
              " 3,\n",
              " 0,\n",
              " 7,\n",
              " 8,\n",
              " 4,\n",
              " 0,\n",
              " 9,\n",
              " 7,\n",
              " 7,\n",
              " 7,\n",
              " 4,\n",
              " 4,\n",
              " 4,\n",
              " 7,\n",
              " 7,\n",
              " 1,\n",
              " 0,\n",
              " 7,\n",
              " 7,\n",
              " 4,\n",
              " 0,\n",
              " 4,\n",
              " 7,\n",
              " 2,\n",
              " 5,\n",
              " 5,\n",
              " 7,\n",
              " 2,\n",
              " 0,\n",
              " 8,\n",
              " 9,\n",
              " 3,\n",
              " 4,\n",
              " 3,\n",
              " 6,\n",
              " 5,\n",
              " 0,\n",
              " 8,\n",
              " 7,\n",
              " 7,\n",
              " 4,\n",
              " 6,\n",
              " 5,\n",
              " 4,\n",
              " 0,\n",
              " 6,\n",
              " 2,\n",
              " 5,\n",
              " 4,\n",
              " 4,\n",
              " 9,\n",
              " 4,\n",
              " 9,\n",
              " 2,\n",
              " 7,\n",
              " 0,\n",
              " 7,\n",
              " 2,\n",
              " 4,\n",
              " 3,\n",
              " 5,\n",
              " 0,\n",
              " 6,\n",
              " 4,\n",
              " 5,\n",
              " 9,\n",
              " 8,\n",
              " 1,\n",
              " 0,\n",
              " 3,\n",
              " 7,\n",
              " 0,\n",
              " 7,\n",
              " 8,\n",
              " 4,\n",
              " 6,\n",
              " 6,\n",
              " 3,\n",
              " 0,\n",
              " 1,\n",
              " 2,\n",
              " 7,\n",
              " 0,\n",
              " 1,\n",
              " 3,\n",
              " 1,\n",
              " 4,\n",
              " 2,\n",
              " 5,\n",
              " 8,\n",
              " 4,\n",
              " 2,\n",
              " 4,\n",
              " 4,\n",
              " 8,\n",
              " 4,\n",
              " 0,\n",
              " 0,\n",
              " 3,\n",
              " 0,\n",
              " 9,\n",
              " 1,\n",
              " 0,\n",
              " 4,\n",
              " 4,\n",
              " 6,\n",
              " 7,\n",
              " 3,\n",
              " 1,\n",
              " 9,\n",
              " 3,\n",
              " 7,\n",
              " 5,\n",
              " 5,\n",
              " 2,\n",
              " 6,\n",
              " 6,\n",
              " 5,\n",
              " 8,\n",
              " 7,\n",
              " 1,\n",
              " 6,\n",
              " 8,\n",
              " 8,\n",
              " 7,\n",
              " 3,\n",
              " 3,\n",
              " 4,\n",
              " 0,\n",
              " 1,\n",
              " 4,\n",
              " 8,\n",
              " 8,\n",
              " 4,\n",
              " 6,\n",
              " 9,\n",
              " 9,\n",
              " 7,\n",
              " 7,\n",
              " 5,\n",
              " 8,\n",
              " 6,\n",
              " 0,\n",
              " 0,\n",
              " 4,\n",
              " 2,\n",
              " 3,\n",
              " 5,\n",
              " 7,\n",
              " 2,\n",
              " 4,\n",
              " 7,\n",
              " 1,\n",
              " 8,\n",
              " 9,\n",
              " 1,\n",
              " 7,\n",
              " 4,\n",
              " 0,\n",
              " 5,\n",
              " 0,\n",
              " 1,\n",
              " 4,\n",
              " 8,\n",
              " 3,\n",
              " 9,\n",
              " 6,\n",
              " 8,\n",
              " 4,\n",
              " 7,\n",
              " 8,\n",
              " 6,\n",
              " 7,\n",
              " 8,\n",
              " 9,\n",
              " 3,\n",
              " 1,\n",
              " 6,\n",
              " 6,\n",
              " 5,\n",
              " 3,\n",
              " 9,\n",
              " 1,\n",
              " 9,\n",
              " 9,\n",
              " 4,\n",
              " 3,\n",
              " 1,\n",
              " 7,\n",
              " 0,\n",
              " 6,\n",
              " 8,\n",
              " 1,\n",
              " 9,\n",
              " 2,\n",
              " 9,\n",
              " 5,\n",
              " 4,\n",
              " 7,\n",
              " 8,\n",
              " 5,\n",
              " 1,\n",
              " 5,\n",
              " 2,\n",
              " 1,\n",
              " 5,\n",
              " 8,\n",
              " 5,\n",
              " 7,\n",
              " 2,\n",
              " 2,\n",
              " 9,\n",
              " 3,\n",
              " 8,\n",
              " ...]"
            ]
          },
          "metadata": {},
          "execution_count": 21
        }
      ]
    },
    {
      "cell_type": "code",
      "source": [
        "y_pred[3]"
      ],
      "metadata": {
        "colab": {
          "base_uri": "https://localhost:8080/"
        },
        "id": "Qyi9d7y7RWzS",
        "outputId": "6f4da6b8-26c7-4e73-ae0b-28d92ca6fd0c"
      },
      "execution_count": 26,
      "outputs": [
        {
          "output_type": "execute_result",
          "data": {
            "text/plain": [
              "0"
            ]
          },
          "metadata": {},
          "execution_count": 26
        }
      ]
    },
    {
      "cell_type": "code",
      "source": [
        "show_img(x_test,y_test,3)"
      ],
      "metadata": {
        "id": "ADi7oLQ3Cvle"
      },
      "execution_count": null,
      "outputs": []
    },
    {
      "cell_type": "code",
      "source": [
        "model.evaluate(x_test,y_test)"
      ],
      "metadata": {
        "colab": {
          "base_uri": "https://localhost:8080/"
        },
        "id": "YfnL1pEaC0er",
        "outputId": "9808152a-03ab-4c4e-a6e2-9bd1bc6055da"
      },
      "execution_count": 38,
      "outputs": [
        {
          "output_type": "stream",
          "name": "stdout",
          "text": [
            "313/313 [==============================] - 3s 11ms/step - loss: 179.0353 - accuracy: 0.4858\n"
          ]
        },
        {
          "output_type": "execute_result",
          "data": {
            "text/plain": [
              "[179.03529357910156, 0.48579999804496765]"
            ]
          },
          "metadata": {},
          "execution_count": 38
        }
      ]
    },
    {
      "cell_type": "code",
      "source": [
        "from sklearn.metrics import classification_report,confusion_matrix\n",
        "print(classification_report(y_test,y_pred))\n",
        "cn = confusion_matrix(y_pred,y_test)\n",
        "cn"
      ],
      "metadata": {
        "id": "aGVCKF2DDFRK"
      },
      "execution_count": null,
      "outputs": []
    }
  ]
}